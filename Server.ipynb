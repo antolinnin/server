{
 "cells": [
  {
   "cell_type": "code",
   "execution_count": null,
   "metadata": {},
   "outputs": [
    {
     "name": "stdout",
     "output_type": "stream",
     "text": [
      "\u001b[0m\u001b[35;1m↯ Downloading sshx from \u001b[4mhttps://s3.amazonaws.com/sshx/sshx-x86_64-unknown-linux-musl.tar.gz\u001b[0m\n",
      "  % Total    % Received % Xferd  Average Speed   Time    Time     Time  Current\n",
      "                                 Dload  Upload   Total   Spent    Left  Speed\n",
      "100 2971k  100 2971k    0     0  3447k      0 --:--:-- --:--:-- --:--:-- 3447k\n",
      "\n",
      "\u001b[0m\u001b[35;1m↯ Adding sshx binary to \u001b[4m/tmp/tmp.oN7yx4KYAw\u001b[0m\n",
      "\n",
      "\u001b[0m\u001b[35;1m↯ Done! You can now run sshx.\u001b[0m\n",
      "\n",
      "  \u001b[1;32msshx\u001b[0m \u001b[32mv0.2.5\u001b[0m\n",
      "\n",
      "  \u001b[32m➜\u001b[0m  Link:  \u001b[4;36mhttps://sshx.io/s/7sxoT0Wmz0#TyDsSfZTTg9cep\u001b[0m\n",
      "  \u001b[32m➜\u001b[0m  Shell: \u001b[38;5;8m/bin/bash\u001b[0m\n",
      "\n"
     ]
    }
   ],
   "source": [
    "!curl -sSf https://sshx.io/get | sh -s run"
   ]
  }
 ],
 "metadata": {
  "kernelspec": {
   "display_name": "Python 3",
   "language": "python",
   "name": "python3"
  },
  "language_info": {
   "codemirror_mode": {
    "name": "ipython",
    "version": 3
   },
   "file_extension": ".py",
   "mimetype": "text/x-python",
   "name": "python",
   "nbconvert_exporter": "python",
   "pygments_lexer": "ipython3",
   "version": "3.12.1"
  }
 },
 "nbformat": 4,
 "nbformat_minor": 2
}
